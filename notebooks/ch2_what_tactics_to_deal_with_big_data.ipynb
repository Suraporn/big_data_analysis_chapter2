{
 "cells": [
  {
   "cell_type": "markdown",
   "id": "96cb645c-1007-48b0-b711-646cd4671178",
   "metadata": {
    "tags": []
   },
   "source": [
    "# Step1 : Import libraries"
   ]
  },
  {
   "cell_type": "code",
   "execution_count": 1,
   "id": "d20a54cd-25ef-4c55-b37e-337544a7aacb",
   "metadata": {},
   "outputs": [],
   "source": [
    "import re\n",
    "import os\n",
    "import glob\n",
    "import zipfile\n",
    "import requests\n",
    "from urllib.request import urlretrieve\n",
    "import json\n",
    "import pandas as pd"
   ]
  },
  {
   "cell_type": "markdown",
   "id": "81a8dcfd-eafe-408e-9638-9c479e5aef42",
   "metadata": {
    "tags": []
   },
   "source": [
    "# Step2 : Working with 3GB data"
   ]
  },
  {
   "cell_type": "markdown",
   "id": "59e4dd88-7d60-497c-95e1-d6ad4b0e24e7",
   "metadata": {},
   "source": [
    "### 2.1 Download the 3GB data from figshare via API"
   ]
  },
  {
   "cell_type": "code",
   "execution_count": 2,
   "id": "938d1248-1864-4037-a243-031ada81be97",
   "metadata": {},
   "outputs": [
    {
     "data": {
      "text/plain": [
       "[{'id': 26844650,\n",
       "  'name': 'allyears.csv.zip',\n",
       "  'size': 2405908113,\n",
       "  'is_link_only': False,\n",
       "  'download_url': 'https://ndownloader.figshare.com/files/26844650',\n",
       "  'supplied_md5': '9e046ac05ecd2c32a256a47dd1098b81',\n",
       "  'computed_md5': '9e046ac05ecd2c32a256a47dd1098b81'},\n",
       " {'id': 26863682,\n",
       "  'name': 'individual_years.zip',\n",
       "  'size': 1896206676,\n",
       "  'is_link_only': False,\n",
       "  'download_url': 'https://ndownloader.figshare.com/files/26863682',\n",
       "  'supplied_md5': '921da748974b07b2a70bbfcc04535a77',\n",
       "  'computed_md5': '921da748974b07b2a70bbfcc04535a77'},\n",
       " {'id': 27515426,\n",
       "  'name': 'combined_model_data.csv.zip',\n",
       "  'size': 821308997,\n",
       "  'is_link_only': False,\n",
       "  'download_url': 'https://ndownloader.figshare.com/files/27515426',\n",
       "  'supplied_md5': '7638434c44a7d29cbb29fe200b4fd65d',\n",
       "  'computed_md5': '7638434c44a7d29cbb29fe200b4fd65d'},\n",
       " {'id': 27520682,\n",
       "  'name': 'combined_model_data_parti.parquet.zip',\n",
       "  'size': 519743915,\n",
       "  'is_link_only': False,\n",
       "  'download_url': 'https://ndownloader.figshare.com/files/27520682',\n",
       "  'supplied_md5': '02f4e3df8d16580a02291de225072689',\n",
       "  'computed_md5': '02f4e3df8d16580a02291de225072689'},\n",
       " {'id': 27520808,\n",
       "  'name': 'combined_model_data.parquet',\n",
       "  'size': 565872005,\n",
       "  'is_link_only': False,\n",
       "  'download_url': 'https://ndownloader.figshare.com/files/27520808',\n",
       "  'supplied_md5': 'ae63699ab21ffa8006559c6afbcd2271',\n",
       "  'computed_md5': 'ae63699ab21ffa8006559c6afbcd2271'}]"
      ]
     },
     "execution_count": 2,
     "metadata": {},
     "output_type": "execute_result"
    }
   ],
   "source": [
    "# API request\n",
    "article_id = 14226968\n",
    "url = f\"https://api.figshare.com/v2/articles/{article_id}\"\n",
    "headers = {\"Content-Type\": \"application/json\"}\n",
    "output_directory = \"figshareairline_3GB/\"\n",
    "response = requests.request(\"GET\", url, headers=headers)\n",
    "data = json.loads(response.text)\n",
    "files = data[\"files\"]\n",
    "files"
   ]
  },
  {
   "cell_type": "markdown",
   "id": "259ac278-4239-41ff-8eaf-43f769527739",
   "metadata": {},
   "source": [
    "### 2.2 Extract the zip file"
   ]
  },
  {
   "cell_type": "code",
   "execution_count": 3,
   "id": "c697532d-40a3-41f8-8390-8e6473c76524",
   "metadata": {},
   "outputs": [],
   "source": [
    "# Create zip file of individual_years.zip"
   ]
  },
  {
   "cell_type": "code",
   "execution_count": 4,
   "id": "d08ec532-f388-4ae7-82e4-5b6725e76915",
   "metadata": {},
   "outputs": [
    {
     "name": "stdout",
     "output_type": "stream",
     "text": [
      "CPU times: user 8.46 s, sys: 28 s, total: 36.5 s\n",
      "Wall time: 3min 38s\n"
     ]
    }
   ],
   "source": [
    "%%time\n",
    "files_to_dl = [\"individual_years.zip\"]\n",
    "for file in files:\n",
    "    if file[\"name\"] in files_to_dl:\n",
    "        os.makedirs(output_directory, exist_ok=True)\n",
    "        urlretrieve(file[\"download_url\"], output_directory + file[\"name\"])"
   ]
  },
  {
   "cell_type": "code",
   "execution_count": 5,
   "id": "20000eba-9dbe-4920-b098-fc26bbd593ca",
   "metadata": {},
   "outputs": [],
   "source": [
    "# Extract data into output directory"
   ]
  },
  {
   "cell_type": "code",
   "execution_count": 6,
   "id": "d73516af-d768-46b3-962c-767563ed0377",
   "metadata": {},
   "outputs": [
    {
     "name": "stdout",
     "output_type": "stream",
     "text": [
      "CPU times: user 17.7 s, sys: 1.43 s, total: 19.1 s\n",
      "Wall time: 19.5 s\n"
     ]
    }
   ],
   "source": [
    "%%time\n",
    "with zipfile.ZipFile(os.path.join(output_directory, \"individual_years.zip\"), 'r') as f:\n",
    "    f.extractall(output_directory)"
   ]
  },
  {
   "cell_type": "markdown",
   "id": "e3334e61-8cd9-4e43-981d-270d87481094",
   "metadata": {},
   "source": [
    "### 2.3 Combine CSV files"
   ]
  },
  {
   "cell_type": "code",
   "execution_count": 7,
   "id": "a63ea0bf-2410-4d7a-af68-ebb697a6313a",
   "metadata": {},
   "outputs": [
    {
     "name": "stdout",
     "output_type": "stream",
     "text": [
      "CPU times: user 2min 45s, sys: 11.6 s, total: 2min 57s\n",
      "Wall time: 2min 58s\n"
     ]
    }
   ],
   "source": [
    "%%time\n",
    "## here we are using a normal python way for merging the data \n",
    "import pandas as pd\n",
    "use_cols = [\"ArrDelay\", \"DepDelay\", \"Distance\", \"TailNum\",\"UniqueCarrier\",\"Origin\",\"Dest\"]\n",
    "files = glob.glob('figshareairline_3GB/individual_years/*.csv')\n",
    "df = pd.concat((pd.read_csv(file, index_col=0, usecols=use_cols)\n",
    "                .assign(year=re.findall(\"[0-9]+\", file)[0])\n",
    "                for file in files)\n",
    "              )\n",
    "df.to_csv(\"figshareairline_3GB/combined_data.csv\")"
   ]
  },
  {
   "cell_type": "markdown",
   "id": "2769228f-3f20-4f97-be9e-2c2710a0a83a",
   "metadata": {},
   "source": [
    "### 2.4 Check occupied space"
   ]
  },
  {
   "cell_type": "code",
   "execution_count": 29,
   "id": "dc641d2e-e856-4e51-8056-a602d0954004",
   "metadata": {},
   "outputs": [
    {
     "name": "stdout",
     "output_type": "stream",
     "text": [
      "2.9G\tfigshareairline_3GB/combined_data.csv\n"
     ]
    }
   ],
   "source": [
    "%%sh\n",
    "du -sh figshareairline_3GB/combined_data.csv"
   ]
  },
  {
   "cell_type": "markdown",
   "id": "39341239-4223-4f2c-b4c5-f27fe7c0d831",
   "metadata": {},
   "source": [
    "### 2.5 : Perform Simple EDA"
   ]
  },
  {
   "cell_type": "code",
   "execution_count": 30,
   "id": "e4424cae-fbe8-42d0-b441-f2fc335553f7",
   "metadata": {},
   "outputs": [
    {
     "name": "stdout",
     "output_type": "stream",
     "text": [
      "WN    13194660\n",
      "DL    10435886\n",
      "AA     9672922\n",
      "UA     8821384\n",
      "US     8286980\n",
      "NW     6946627\n",
      "CO     4976761\n",
      "MQ     3954895\n",
      "OO     3090853\n",
      "XE     2350309\n",
      "HP     2224941\n",
      "AS     2162672\n",
      "TW     1890420\n",
      "EV     1697172\n",
      "OH     1464176\n",
      "FL     1265138\n",
      "YV      854056\n",
      "B6      811341\n",
      "DH      693047\n",
      "9E      521059\n",
      "F9      336958\n",
      "HA      274265\n",
      "TZ      208420\n",
      "AQ      154381\n",
      "Name: UniqueCarrier, dtype: int64\n",
      "CPU times: user 27.8 s, sys: 11.5 s, total: 39.4 s\n",
      "Wall time: 46.2 s\n"
     ]
    }
   ],
   "source": [
    "%%time\n",
    "df = pd.read_csv(\"figshareairline_3GB/combined_data.csv\")\n",
    "print(df[\"UniqueCarrier\"].value_counts())"
   ]
  },
  {
   "cell_type": "code",
   "execution_count": 31,
   "id": "e5186f27-ea7c-45cb-b536-89f7ff15e6ef",
   "metadata": {},
   "outputs": [
    {
     "name": "stdout",
     "output_type": "stream",
     "text": [
      "Memory usage with float64: 5522.52 MB\n"
     ]
    }
   ],
   "source": [
    "print(f\"Memory usage with float64: {df.memory_usage().sum() / 1e6:.2f} MB\")"
   ]
  },
  {
   "cell_type": "markdown",
   "id": "7bc767f2-c49c-46a9-804f-ba478bcad488",
   "metadata": {},
   "source": [
    "Summary:\n",
    "| DataSize | Operating System | RAM | Processor | Is SSD | Space occupied | Time taken |\n",
    "|:-----------:|:----------------:|:---:|:---------:|:------:|:----------:|:----------:|\n",
    "| 3GB    |          MacOS        |  16GB   |    Apple M1 Pro       |   Yes     |     5.52GB     |   47s   |\n",
    "| 10GB    |          MacOS        |  16GB   |    Apple M1 Pro       |   Yes     |            |      |"
   ]
  },
  {
   "cell_type": "markdown",
   "id": "578405eb-f1b9-4e77-b309-8dd2d0a4935d",
   "metadata": {},
   "source": [
    "# Step3 : Working with 10GB data"
   ]
  },
  {
   "cell_type": "markdown",
   "id": "84b05c29-33f5-4119-ac2a-4bed6b0e09ae",
   "metadata": {},
   "source": [
    "### 3.1 Check occupied space"
   ]
  },
  {
   "cell_type": "markdown",
   "id": "238709a1-b7a2-496a-abb3-d92081284411",
   "metadata": {},
   "source": [
    "The 10GB Airline data can be found [here.](https://drive.google.com/file/d/1cf88O_KAWy0V2GS-WvysHkd6z0nsOSBL/view)"
   ]
  },
  {
   "cell_type": "code",
   "execution_count": 32,
   "id": "ed229dea-5aeb-44a9-8591-90842ada2afb",
   "metadata": {},
   "outputs": [
    {
     "name": "stdout",
     "output_type": "stream",
     "text": [
      "9.3G\tfigshareairline_10GB/combined_10gb.csv\n"
     ]
    }
   ],
   "source": [
    "%%sh\n",
    "du -sh figshareairline_10GB/combined_10gb.csv"
   ]
  },
  {
   "cell_type": "markdown",
   "id": "6e24d06f-373b-47f1-a30c-7aaa131ea0db",
   "metadata": {},
   "source": [
    "### 3.2 : Perform Simple EDA"
   ]
  },
  {
   "cell_type": "code",
   "execution_count": 33,
   "id": "76fc852a-b2e5-4606-8f75-9d1acc975ec8",
   "metadata": {},
   "outputs": [
    {
     "name": "stdout",
     "output_type": "stream",
     "text": [
      "WN    39583980\n",
      "DL    31307658\n",
      "AA    29018766\n",
      "UA    26464152\n",
      "US    24860940\n",
      "NW    20839881\n",
      "CO    14930283\n",
      "MQ    11864685\n",
      "OO     9272559\n",
      "XE     7050927\n",
      "HP     6674823\n",
      "AS     6488016\n",
      "TW     5671260\n",
      "EV     5091516\n",
      "OH     4392528\n",
      "FL     3795414\n",
      "YV     2562168\n",
      "B6     2434023\n",
      "DH     2079141\n",
      "9E     1563177\n",
      "F9     1010874\n",
      "HA      822795\n",
      "TZ      625260\n",
      "AQ      463143\n",
      "Name: UniqueCarrier, dtype: int64\n",
      "CPU times: user 1min 20s, sys: 33.1 s, total: 1min 53s\n",
      "Wall time: 2min 31s\n"
     ]
    }
   ],
   "source": [
    "%%time\n",
    "df = pd.read_csv(\"figshareairline_10GB/combined_10gb.csv\")\n",
    "print(df[\"UniqueCarrier\"].value_counts())"
   ]
  },
  {
   "cell_type": "code",
   "execution_count": 34,
   "id": "fe8bcb6c-6a9f-4868-8185-1658ddd0e6e2",
   "metadata": {},
   "outputs": [
    {
     "name": "stdout",
     "output_type": "stream",
     "text": [
      "Memory usage with float64: 16567.55 MB\n"
     ]
    }
   ],
   "source": [
    "print(f\"Memory usage with float64: {df.memory_usage().sum() / 1e6:.2f} MB\")"
   ]
  },
  {
   "cell_type": "markdown",
   "id": "4c712554-4f4a-47a0-b1ed-1895f16b46a5",
   "metadata": {},
   "source": [
    "Summary:\n",
    "| DataSize | Operating System | RAM | Processor | Is SSD | Space occupied | Time taken |\n",
    "|:-----------:|:----------------:|:---:|:---------:|:------:|:----------:|:----------:|\n",
    "| 3GB    |          MacOS        |  16GB   |    Apple M1 Pro       |   Yes     |     5.52GB     |   47s   |\n",
    "| 10GB    |          MacOS        |  16GB   |    Apple M1 Pro       |   Yes     |    16.57GB     |   2min 31s   |"
   ]
  },
  {
   "cell_type": "markdown",
   "id": "a62381a0-4d0b-4dbd-90d4-7ee962e0f165",
   "metadata": {
    "tags": []
   },
   "source": [
    "# Step4 : Tactics to deal with Big data locally"
   ]
  },
  {
   "cell_type": "markdown",
   "id": "c6a25301-acf2-4fb0-b7eb-b74d30277ebe",
   "metadata": {},
   "source": [
    "### Approach1 - Select only columns we use"
   ]
  },
  {
   "cell_type": "code",
   "execution_count": 35,
   "id": "b79680ec-85f5-49ef-a215-1bbc402a6912",
   "metadata": {},
   "outputs": [
    {
     "name": "stdout",
     "output_type": "stream",
     "text": [
      "WN    13194660\n",
      "DL    10435886\n",
      "AA     9672922\n",
      "UA     8821384\n",
      "US     8286980\n",
      "NW     6946627\n",
      "CO     4976761\n",
      "MQ     3954895\n",
      "OO     3090853\n",
      "XE     2350309\n",
      "HP     2224941\n",
      "AS     2162672\n",
      "TW     1890420\n",
      "EV     1697172\n",
      "OH     1464176\n",
      "FL     1265138\n",
      "YV      854056\n",
      "B6      811341\n",
      "DH      693047\n",
      "9E      521059\n",
      "F9      336958\n",
      "HA      274265\n",
      "TZ      208420\n",
      "AQ      154381\n",
      "Name: UniqueCarrier, dtype: int64\n",
      "CPU times: user 14.2 s, sys: 2.05 s, total: 16.2 s\n",
      "Wall time: 16.8 s\n"
     ]
    }
   ],
   "source": [
    "%%time\n",
    "use_cols = ['UniqueCarrier']\n",
    "df = pd.read_csv(\"figshareairline_3GB/combined_data.csv\",usecols=use_cols)\n",
    "print(df[\"UniqueCarrier\"].value_counts())"
   ]
  },
  {
   "cell_type": "code",
   "execution_count": 36,
   "id": "03c67001-56f3-4813-b3bc-c3383863eac6",
   "metadata": {},
   "outputs": [
    {
     "name": "stdout",
     "output_type": "stream",
     "text": [
      "Memory usage with float64: 690.31 MB\n"
     ]
    }
   ],
   "source": [
    "print(f\"Memory usage with float64: {df.memory_usage().sum() / 1e6:.2f} MB\")"
   ]
  },
  {
   "cell_type": "code",
   "execution_count": 37,
   "id": "ed53f536-5bde-44c2-a97f-378ee82a1a73",
   "metadata": {},
   "outputs": [
    {
     "name": "stdout",
     "output_type": "stream",
     "text": [
      "WN    39583980\n",
      "DL    31307658\n",
      "AA    29018766\n",
      "UA    26464152\n",
      "US    24860940\n",
      "NW    20839881\n",
      "CO    14930283\n",
      "MQ    11864685\n",
      "OO     9272559\n",
      "XE     7050927\n",
      "HP     6674823\n",
      "AS     6488016\n",
      "TW     5671260\n",
      "EV     5091516\n",
      "OH     4392528\n",
      "FL     3795414\n",
      "YV     2562168\n",
      "B6     2434023\n",
      "DH     2079141\n",
      "9E     1563177\n",
      "F9     1010874\n",
      "HA      822795\n",
      "TZ      625260\n",
      "AQ      463143\n",
      "Name: UniqueCarrier, dtype: int64\n",
      "CPU times: user 37.9 s, sys: 2.79 s, total: 40.7 s\n",
      "Wall time: 41.1 s\n"
     ]
    }
   ],
   "source": [
    "%%time\n",
    "use_cols = ['UniqueCarrier']\n",
    "df = pd.read_csv(\"figshareairline_10GB/combined_10gb.csv\",usecols=use_cols)\n",
    "print(df[\"UniqueCarrier\"].value_counts())"
   ]
  },
  {
   "cell_type": "code",
   "execution_count": 38,
   "id": "b98b1dd4-30a8-4f88-b448-7bffdd602ab2",
   "metadata": {},
   "outputs": [
    {
     "name": "stdout",
     "output_type": "stream",
     "text": [
      "Memory usage with float64: 2070.94 MB\n"
     ]
    }
   ],
   "source": [
    "print(f\"Memory usage with float64: {df.memory_usage().sum() / 1e6:.2f} MB\")"
   ]
  },
  {
   "cell_type": "markdown",
   "id": "362b5b7a-c3c9-4b1c-a8c2-89b2fe267c25",
   "metadata": {},
   "source": [
    "### Approach2 - Change data type"
   ]
  },
  {
   "cell_type": "code",
   "execution_count": 39,
   "id": "9b1560a2-89f3-4d9a-912d-5b8425d47669",
   "metadata": {},
   "outputs": [
    {
     "name": "stdout",
     "output_type": "stream",
     "text": [
      "Memory usage with float64: 5522.52 MB\n",
      "Memory usage with float32: 4141.89 MB\n",
      "WN    13194660\n",
      "DL    10435886\n",
      "AA     9672922\n",
      "UA     8821384\n",
      "US     8286980\n",
      "NW     6946627\n",
      "CO     4976761\n",
      "MQ     3954895\n",
      "OO     3090853\n",
      "XE     2350309\n",
      "HP     2224941\n",
      "AS     2162672\n",
      "TW     1890420\n",
      "EV     1697172\n",
      "OH     1464176\n",
      "FL     1265138\n",
      "YV      854056\n",
      "B6      811341\n",
      "DH      693047\n",
      "9E      521059\n",
      "F9      336958\n",
      "HA      274265\n",
      "TZ      208420\n",
      "AQ      154381\n",
      "Name: UniqueCarrier, dtype: int64\n",
      "CPU times: user 26.6 s, sys: 9.8 s, total: 36.4 s\n",
      "Wall time: 41.5 s\n"
     ]
    }
   ],
   "source": [
    "%%time\n",
    "df = pd.read_csv(\"figshareairline_3GB/combined_data.csv\")\n",
    "print(f\"Memory usage with float64: {df.memory_usage().sum() / 1e6:.2f} MB\")\n",
    "print(f\"Memory usage with float32: {df.astype('float32', errors='ignore').memory_usage().sum() / 1e6:.2f} MB\")\n",
    "print(df[\"UniqueCarrier\"].value_counts())"
   ]
  },
  {
   "cell_type": "code",
   "execution_count": 40,
   "id": "dbe7ee8f-810e-4b03-9667-0f01c4975272",
   "metadata": {},
   "outputs": [
    {
     "name": "stdout",
     "output_type": "stream",
     "text": [
      "Memory usage with float64: 16567.55 MB\n",
      "Memory usage with float32: 12425.66 MB\n",
      "WN    39583980\n",
      "DL    31307658\n",
      "AA    29018766\n",
      "UA    26464152\n",
      "US    24860940\n",
      "NW    20839881\n",
      "CO    14930283\n",
      "MQ    11864685\n",
      "OO     9272559\n",
      "XE     7050927\n",
      "HP     6674823\n",
      "AS     6488016\n",
      "TW     5671260\n",
      "EV     5091516\n",
      "OH     4392528\n",
      "FL     3795414\n",
      "YV     2562168\n",
      "B6     2434023\n",
      "DH     2079141\n",
      "9E     1563177\n",
      "F9     1010874\n",
      "HA      822795\n",
      "TZ      625260\n",
      "AQ      463143\n",
      "Name: UniqueCarrier, dtype: int64\n",
      "CPU times: user 1min 20s, sys: 35.9 s, total: 1min 56s\n",
      "Wall time: 2min 36s\n"
     ]
    }
   ],
   "source": [
    "%%time\n",
    "df = pd.read_csv(\"figshareairline_10GB/combined_10gb.csv\")\n",
    "print(f\"Memory usage with float64: {df.memory_usage().sum() / 1e6:.2f} MB\")\n",
    "print(f\"Memory usage with float32: {df.astype('float32', errors='ignore').memory_usage().sum() / 1e6:.2f} MB\")\n",
    "print(df[\"UniqueCarrier\"].value_counts())"
   ]
  },
  {
   "cell_type": "markdown",
   "id": "363feb5b-22f5-442f-a1cc-d93a0844435b",
   "metadata": {},
   "source": [
    "### Approach3 - Load data in chunks"
   ]
  },
  {
   "cell_type": "code",
   "execution_count": 41,
   "id": "6e01c91c-5a88-47c2-b679-697a98d6ea8f",
   "metadata": {},
   "outputs": [
    {
     "name": "stdout",
     "output_type": "stream",
     "text": [
      "9E      521059\n",
      "AA     9672922\n",
      "AQ      154381\n",
      "AS     2162672\n",
      "B6      811341\n",
      "CO     4976761\n",
      "DH      693047\n",
      "DL    10435886\n",
      "EV     1697172\n",
      "F9      336958\n",
      "FL     1265138\n",
      "HA      274265\n",
      "HP     2224941\n",
      "MQ     3954895\n",
      "NW     6946627\n",
      "OH     1464176\n",
      "OO     3090853\n",
      "TW     1890420\n",
      "TZ      208420\n",
      "UA     8821384\n",
      "US     8286980\n",
      "WN    13194660\n",
      "XE     2350309\n",
      "YV      854056\n",
      "dtype: int64\n",
      "CPU times: user 26.3 s, sys: 4.19 s, total: 30.5 s\n",
      "Wall time: 30.8 s\n"
     ]
    }
   ],
   "source": [
    "%%time\n",
    "counts = pd.Series(dtype=int)\n",
    "for chunk in pd.read_csv(\"figshareairline_3GB/combined_data.csv\", chunksize=10_000_000):\n",
    "    counts = counts.add(chunk[\"UniqueCarrier\"].value_counts(), fill_value=0)\n",
    "print(counts.astype(int))"
   ]
  },
  {
   "cell_type": "code",
   "execution_count": 42,
   "id": "35ff33de-d07e-4fc7-94c3-4960e5a15b01",
   "metadata": {},
   "outputs": [
    {
     "name": "stdout",
     "output_type": "stream",
     "text": [
      "Memory usage with float64: 402.52 MB\n"
     ]
    }
   ],
   "source": [
    "print(f\"Memory usage with float64: {chunk.memory_usage().sum() / 1e6:.2f} MB\")"
   ]
  },
  {
   "cell_type": "code",
   "execution_count": 43,
   "id": "a84bd69f-95ad-4e9d-a86f-0e12840d657d",
   "metadata": {},
   "outputs": [
    {
     "name": "stdout",
     "output_type": "stream",
     "text": [
      "9E     1563177\n",
      "AA    29018766\n",
      "AQ      463143\n",
      "AS     6488016\n",
      "B6     2434023\n",
      "CO    14930283\n",
      "DH     2079141\n",
      "DL    31307658\n",
      "EV     5091516\n",
      "F9     1010874\n",
      "FL     3795414\n",
      "HA      822795\n",
      "HP     6674823\n",
      "MQ    11864685\n",
      "NW    20839881\n",
      "OH     4392528\n",
      "OO     9272559\n",
      "TW     5671260\n",
      "TZ      625260\n",
      "UA    26464152\n",
      "US    24860940\n",
      "WN    39583980\n",
      "XE     7050927\n",
      "YV     2562168\n",
      "dtype: int64\n",
      "CPU times: user 1min 20s, sys: 12 s, total: 1min 32s\n",
      "Wall time: 1min 32s\n"
     ]
    }
   ],
   "source": [
    "%%time\n",
    "counts = pd.Series(dtype=int)\n",
    "for chunk in pd.read_csv(\"figshareairline_10GB/combined_10gb.csv\", chunksize=10_000_000):\n",
    "    counts = counts.add(chunk[\"UniqueCarrier\"].value_counts(), fill_value=0)\n",
    "print(counts.astype(int))"
   ]
  },
  {
   "cell_type": "code",
   "execution_count": 44,
   "id": "d3d7d743-a976-481f-994d-80b6150f26d1",
   "metadata": {},
   "outputs": [
    {
     "name": "stdout",
     "output_type": "stream",
     "text": [
      "Memory usage with float64: 567.55 MB\n"
     ]
    }
   ],
   "source": [
    "print(f\"Memory usage with float64: {chunk.memory_usage().sum() / 1e6:.2f} MB\")"
   ]
  },
  {
   "cell_type": "markdown",
   "id": "25db014f-f525-4253-adba-f2d7643f148a",
   "metadata": {},
   "source": [
    "# Summary"
   ]
  },
  {
   "cell_type": "markdown",
   "id": "31d5ec9f-4edb-4570-8d96-142201bcbf7f",
   "metadata": {},
   "source": [
    "| DataSize | Method | Operating System | RAM | Processor | Is SSD | Space occupied | Time taken |\n",
    "|:-----------:|:-----------:|:----------------:|:---:|:---------:|:------:|:----------:|:----------:|\n",
    "| 3GB    | Load all data    |    MacOS   |  16GB   | Apple M1 Pro  | Yes | 5.52GB  |   47s      |\n",
    "| 3GB    | Selected columns |    MacOS   |  16GB   | Apple M1 Pro  | Yes | 0.69GB  |   16.8s    |\n",
    "| 3GB    | Change data type |    MacOS   |  16GB   | Apple M1 Pro  | Yes | 4.14GB  |   41.5s    |\n",
    "| 3GB    | Load in chunks   |    MacOS   |  16GB   | Apple M1 Pro  | Yes | 0.40GB  |   30.8s    |\n",
    "| 10GB   | Load all data    |    MacOS   |  16GB   | Apple M1 Pro  | Yes | 16.57GB |   2min 31s |\n",
    "| 10GB   | Selected columns |    MacOS   |  16GB   | Apple M1 Pro  | Yes | 2.07GB  |   41.1s    |\n",
    "| 10GB   | Change data type |    MacOS   |  16GB   | Apple M1 Pro  | Yes | 12.43GB |   2min 36s |\n",
    "| 10GB   | Load in chunks   |    MacOS   |  16GB   | Apple M1 Pro  | Yes | 0.57GB   |   1min 32s    |"
   ]
  }
 ],
 "metadata": {
  "kernelspec": {
   "display_name": "Python [conda env:525]",
   "language": "python",
   "name": "conda-env-525-py"
  },
  "language_info": {
   "codemirror_mode": {
    "name": "ipython",
    "version": 3
   },
   "file_extension": ".py",
   "mimetype": "text/x-python",
   "name": "python",
   "nbconvert_exporter": "python",
   "pygments_lexer": "ipython3",
   "version": "3.10.10"
  }
 },
 "nbformat": 4,
 "nbformat_minor": 5
}
